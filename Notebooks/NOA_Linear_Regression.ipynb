{
  "nbformat": 4,
  "nbformat_minor": 0,
  "metadata": {
    "colab": {
      "name": "NOA_Linear_Regression.ipynb",
      "provenance": [],
      "collapsed_sections": []
    },
    "kernelspec": {
      "name": "python3",
      "display_name": "Python 3"
    },
    "language_info": {
      "name": "python"
    }
  },
  "cells": [
    {
      "cell_type": "markdown",
      "metadata": {
        "id": "49XDDPG96YBS"
      },
      "source": [
        "$\\Huge{\\text{Linear Regression}}$"
      ]
    },
    {
      "cell_type": "markdown",
      "metadata": {
        "id": "eLRi3Z8M6oEb"
      },
      "source": [
        "In this session, we shall learn about the basic concepts of linear regression. "
      ]
    },
    {
      "cell_type": "markdown",
      "metadata": {
        "id": "omPJTFwf6tKz"
      },
      "source": [
        "Let us first consider a sample data, which will be useful for our study. "
      ]
    },
    {
      "cell_type": "code",
      "metadata": {
        "id": "EKjOKXDr60y5"
      },
      "source": [
        "#First, we import the required packages\n",
        "import pandas as pd #the pandas library is useful for data processing \n",
        "import matplotlib.pyplot as plt #the matplotlib library is useful for plotting purposes\n",
        "\n",
        "# The following python directive helps to plot the graph in the notebook directly\n",
        "%matplotlib inline"
      ],
      "execution_count": 1,
      "outputs": []
    },
    {
      "cell_type": "markdown",
      "metadata": {
        "id": "fsQxUCEy_S6o"
      },
      "source": [
        "Now let us consider some open source data sets available in the internet. \n",
        "The first data set measures the mathscores of humans who have some drug concentration in their body. \n"
      ]
    },
    {
      "cell_type": "code",
      "metadata": {
        "colab": {
          "base_uri": "https://localhost:8080/",
          "height": 206
        },
        "id": "IHcf8Q4q7cNX",
        "outputId": "d4a07489-2c38-48b6-bd1c-ff54730c67f0"
      },
      "source": [
        "#Let us explore the data and the description \n",
        "\n",
        "#Get the data from the web \n",
        "drug_vs_mathscore_data = pd.read_csv('http://users.stat.ufl.edu/~winner/data/lsd.dat', delim_whitespace=True, index_col=False, header=None)\n",
        "\n",
        "#print the first few rows of the data \n",
        "drug_vs_mathscore_data.head()\n"
      ],
      "execution_count": 2,
      "outputs": [
        {
          "output_type": "execute_result",
          "data": {
            "text/html": [
              "<div>\n",
              "<style scoped>\n",
              "    .dataframe tbody tr th:only-of-type {\n",
              "        vertical-align: middle;\n",
              "    }\n",
              "\n",
              "    .dataframe tbody tr th {\n",
              "        vertical-align: top;\n",
              "    }\n",
              "\n",
              "    .dataframe thead th {\n",
              "        text-align: right;\n",
              "    }\n",
              "</style>\n",
              "<table border=\"1\" class=\"dataframe\">\n",
              "  <thead>\n",
              "    <tr style=\"text-align: right;\">\n",
              "      <th></th>\n",
              "      <th>0</th>\n",
              "      <th>1</th>\n",
              "    </tr>\n",
              "  </thead>\n",
              "  <tbody>\n",
              "    <tr>\n",
              "      <th>0</th>\n",
              "      <td>1.17</td>\n",
              "      <td>78.93</td>\n",
              "    </tr>\n",
              "    <tr>\n",
              "      <th>1</th>\n",
              "      <td>2.97</td>\n",
              "      <td>58.20</td>\n",
              "    </tr>\n",
              "    <tr>\n",
              "      <th>2</th>\n",
              "      <td>3.26</td>\n",
              "      <td>67.47</td>\n",
              "    </tr>\n",
              "    <tr>\n",
              "      <th>3</th>\n",
              "      <td>4.69</td>\n",
              "      <td>37.47</td>\n",
              "    </tr>\n",
              "    <tr>\n",
              "      <th>4</th>\n",
              "      <td>5.83</td>\n",
              "      <td>45.65</td>\n",
              "    </tr>\n",
              "  </tbody>\n",
              "</table>\n",
              "</div>"
            ],
            "text/plain": [
              "      0      1\n",
              "0  1.17  78.93\n",
              "1  2.97  58.20\n",
              "2  3.26  67.47\n",
              "3  4.69  37.47\n",
              "4  5.83  45.65"
            ]
          },
          "metadata": {
            "tags": []
          },
          "execution_count": 2
        }
      ]
    },
    {
      "cell_type": "code",
      "metadata": {
        "colab": {
          "base_uri": "https://localhost:8080/"
        },
        "id": "e30rAQsUAOJU",
        "outputId": "0a468f44-1b1f-45a7-f7e5-66b288487666"
      },
      "source": [
        "#if you wish to print the entire data, then use the following\n",
        "print(drug_vs_mathscore_data)"
      ],
      "execution_count": 3,
      "outputs": [
        {
          "output_type": "stream",
          "text": [
            "      0      1\n",
            "0  1.17  78.93\n",
            "1  2.97  58.20\n",
            "2  3.26  67.47\n",
            "3  4.69  37.47\n",
            "4  5.83  45.65\n",
            "5  6.00  32.92\n",
            "6  6.41  29.97\n"
          ],
          "name": "stdout"
        }
      ]
    },
    {
      "cell_type": "markdown",
      "metadata": {
        "id": "dWpqpERQAf-T"
      },
      "source": [
        "What do the numbers in the above data mean? Let us understand the data by seeing its description. "
      ]
    },
    {
      "cell_type": "code",
      "metadata": {
        "colab": {
          "base_uri": "https://localhost:8080/"
        },
        "id": "j2pWNPCM8apJ",
        "outputId": "50ba7728-a8a6-4c61-8ec2-b24fabacdeb8"
      },
      "source": [
        "import urllib.request   #this package is useful for accessing text files over internet \n",
        "drug_vs_mathscore_data_description_file = urllib.request.urlopen('http://users.stat.ufl.edu/~winner/data/lsd.txt')\n",
        "\n",
        "\n",
        "for line in drug_vs_mathscore_data_description_file:\n",
        "  decoded_line = line.decode(\"utf-8\")\n",
        "  print(decoded_line) "
      ],
      "execution_count": 4,
      "outputs": [
        {
          "output_type": "stream",
          "text": [
            "Dataset:  lsd.dat\n",
            "\n",
            "Source: Wagner, Agahajanian, and Bing (1968). Correlation of Performance\n",
            "\n",
            "Test Scores with Tissue Concentration of Lysergic Acid Diethylamide in\n",
            "\n",
            "Human Subjects. Clinical Pharmacology and Therapeutics, Vol.9 pp635-638.\n",
            "\n",
            "\n",
            "\n",
            "Description: Group of volunteers was given LSD, their mean scores on\n",
            "\n",
            "math exam and tissue concentrations of LSD were obtained at n=7 time points.\n",
            "\n",
            "\n",
            "\n",
            "Variables/Columns\n",
            "\n",
            "\n",
            "\n",
            "Tissue Concentration    1-4\n",
            "\n",
            "Math Score             8-12\n",
            "\n"
          ],
          "name": "stdout"
        }
      ]
    },
    {
      "cell_type": "markdown",
      "metadata": {
        "id": "4zeP3YWfBstW"
      },
      "source": [
        "Having known the data description, let us insert the descriptions into the data now."
      ]
    },
    {
      "cell_type": "code",
      "metadata": {
        "colab": {
          "base_uri": "https://localhost:8080/",
          "height": 206
        },
        "id": "6vn3zD4SB3ht",
        "outputId": "2ad070ba-3dbe-494c-f6c2-2a1072c6b413"
      },
      "source": [
        "drug_vs_mathscore_data.columns = ['Tissue concentration', 'Math score']\n",
        "\n",
        "#check by printing the data again\n",
        "drug_vs_mathscore_data.head()"
      ],
      "execution_count": 5,
      "outputs": [
        {
          "output_type": "execute_result",
          "data": {
            "text/html": [
              "<div>\n",
              "<style scoped>\n",
              "    .dataframe tbody tr th:only-of-type {\n",
              "        vertical-align: middle;\n",
              "    }\n",
              "\n",
              "    .dataframe tbody tr th {\n",
              "        vertical-align: top;\n",
              "    }\n",
              "\n",
              "    .dataframe thead th {\n",
              "        text-align: right;\n",
              "    }\n",
              "</style>\n",
              "<table border=\"1\" class=\"dataframe\">\n",
              "  <thead>\n",
              "    <tr style=\"text-align: right;\">\n",
              "      <th></th>\n",
              "      <th>Tissue concentration</th>\n",
              "      <th>Math score</th>\n",
              "    </tr>\n",
              "  </thead>\n",
              "  <tbody>\n",
              "    <tr>\n",
              "      <th>0</th>\n",
              "      <td>1.17</td>\n",
              "      <td>78.93</td>\n",
              "    </tr>\n",
              "    <tr>\n",
              "      <th>1</th>\n",
              "      <td>2.97</td>\n",
              "      <td>58.20</td>\n",
              "    </tr>\n",
              "    <tr>\n",
              "      <th>2</th>\n",
              "      <td>3.26</td>\n",
              "      <td>67.47</td>\n",
              "    </tr>\n",
              "    <tr>\n",
              "      <th>3</th>\n",
              "      <td>4.69</td>\n",
              "      <td>37.47</td>\n",
              "    </tr>\n",
              "    <tr>\n",
              "      <th>4</th>\n",
              "      <td>5.83</td>\n",
              "      <td>45.65</td>\n",
              "    </tr>\n",
              "  </tbody>\n",
              "</table>\n",
              "</div>"
            ],
            "text/plain": [
              "   Tissue concentration  Math score\n",
              "0                  1.17       78.93\n",
              "1                  2.97       58.20\n",
              "2                  3.26       67.47\n",
              "3                  4.69       37.47\n",
              "4                  5.83       45.65"
            ]
          },
          "metadata": {
            "tags": []
          },
          "execution_count": 5
        }
      ]
    },
    {
      "cell_type": "markdown",
      "metadata": {
        "id": "oxMzgEmuBYaP"
      },
      "source": [
        "Seeing the data as mere numbers might not be interesting. So, let us use some graphical ways to visualize the data. "
      ]
    },
    {
      "cell_type": "code",
      "metadata": {
        "colab": {
          "base_uri": "https://localhost:8080/",
          "height": 295
        },
        "id": "aGs0mgVU9aTe",
        "outputId": "02f47ba8-f235-4cbd-ea7e-bc06f4c781a7"
      },
      "source": [
        "#We will plot a scatter plot of the math score vs tissue concentration \n",
        "\n",
        "plt.scatter(drug_vs_mathscore_data['Tissue concentration'], drug_vs_mathscore_data['Math score'])\n",
        "plt.title(\"Tissue drug concentration vs Math scores\")\n",
        "plt.xlabel(\"Tissue concentration\")\n",
        "plt.ylabel(\"Math scores\")\n",
        "plt.show()"
      ],
      "execution_count": 6,
      "outputs": [
        {
          "output_type": "display_data",
          "data": {
            "image/png": "[encoded data removed]",
            "text/plain": [
              "<Figure size 432x288 with 1 Axes>"
            ]
          },
          "metadata": {
            "tags": [],
            "needs_background": "light"
          }
        }
      ]
    },
    {
      "cell_type": "markdown",
      "metadata": {
        "id": "QAUgxkr_JPm6"
      },
      "source": [
        "We see that there is a negative trend in the data. That is, as the tissue drug concentration increases, the math score decreases. "
      ]
    },
    {
      "cell_type": "markdown",
      "metadata": {
        "id": "Lcj0fEb9mXvF"
      },
      "source": [
        "$\\large{\\text{Question:}}$ Is the trend linear (or) at least linear looking? "
      ]
    },
    {
      "cell_type": "markdown",
      "metadata": {
        "id": "1RomqGNjJict"
      },
      "source": [
        "$\\large{\\text{Another Question:}}$ What do we mean by a linear (or) linear looking trend between the two variables tissue concentration and math scores?  "
      ]
    },
    {
      "cell_type": "markdown",
      "metadata": {
        "id": "3JpOrdrEjEU3"
      },
      "source": [
        "In the next 2 figures, we shall illustrate the linear relationship between two variables $x$ and $y$ using a line. We assume $x$ to be independent (or) predictor variable and $y$ as the dependent (or) response variable."
      ]
    },
    {
      "cell_type": "markdown",
      "metadata": {
        "id": "dnscBvZxkSos"
      },
      "source": [
        "$\\large{\\text{Linear relationship between }} x \\text{ and } y \\text{ captured by a straight line with positive slope }$."
      ]
    },
    {
      "cell_type": "code",
      "metadata": {
        "colab": {
          "base_uri": "https://localhost:8080/",
          "height": 531
        },
        "id": "UOlR4QRjJvid",
        "outputId": "a41a0b62-101f-4074-8f0a-e7e76f27c104"
      },
      "source": [
        "from urllib.request import urlopen\n",
        "from PIL import Image\n",
        "\n",
        "img = Image.open(urlopen('https://raw.githubusercontent.com/balamurup/NOA_LinearRegression/main/line_pic.png'))\n",
        "img"
      ],
      "execution_count": 7,
      "outputs": [
        {
          "output_type": "execute_result",
          "data": {
            "image/png": "[encoded data removed]",
            "text/plain": [
              "<PIL.PngImagePlugin.PngImageFile image mode=RGB size=805x514 at 0x7F21891E9A10>"
            ]
          },
          "metadata": {
            "tags": []
          },
          "execution_count": 7
        }
      ]
    },
    {
      "cell_type": "markdown",
      "metadata": {
        "id": "QunmybWgjnl4"
      },
      "source": [
        "In this figure, we see that the line is represented by $y=mx+c$, where $m=\\tan(\\theta)$ is the slope of the line and $c$ is the intercept made on the $y$-axis. $\\textbf{Note}$ that since $\\theta$ is acute, the line has a positive slope. "
      ]
    },
    {
      "cell_type": "markdown",
      "metadata": {
        "id": "XpyCM04Xl1ri"
      },
      "source": [
        "$\\large{\\text{Linear relationship between }} x \\text{ and } y \\text{ captured by a straight line with negative slope }$."
      ]
    },
    {
      "cell_type": "code",
      "metadata": {
        "colab": {
          "base_uri": "https://localhost:8080/",
          "height": 531
        },
        "id": "243TGi-Tf0q-",
        "outputId": "8c1e5308-b296-4129-8148-b132bec7b79a"
      },
      "source": [
        "img_2 = Image.open(urlopen('https://raw.githubusercontent.com/balamurup/NOA_LinearRegression/main/line_pic_neg_slope.png'))\n",
        "img_2"
      ],
      "execution_count": 8,
      "outputs": [
        {
          "output_type": "execute_result",
          "data": {
            "image/png": "[encoded data removed]",
            "text/plain": [
              "<PIL.PngImagePlugin.PngImageFile image mode=RGB size=805x514 at 0x7F21891A15D0>"
            ]
          },
          "metadata": {
            "tags": []
          },
          "execution_count": 8
        }
      ]
    },
    {
      "cell_type": "markdown",
      "metadata": {
        "id": "5eYXPsylmHYq"
      },
      "source": [
        "In this figure too, we see that the line is represented by $y=mx+c$, where $m=\\tan(\\theta)$ is the slope of the line and $c$ is the intercept made on the $y$-axis. $\\textbf{Note}$ that since $\\theta$ is obtuse, the line has a negative slope. "
      ]
    },
    {
      "cell_type": "markdown",
      "metadata": {
        "id": "eEEpTGVimfq9"
      },
      "source": [
        "Hence when we look for $\\large{\\text{linear trend}}$ (or) $\\large{\\text{linear relationship}}$, we look for the relationship to be approximated by a straight line with a positive or negative slope. "
      ]
    },
    {
      "cell_type": "markdown",
      "metadata": {
        "id": "cEhKyzh0xka9"
      },
      "source": [
        "$\\Large{\\text{Probabilistic interpretation}}$ \n",
        "\n",
        "In probability terms, let us assume that $X$ and $Y$ are two real-valued random variables, where $Y$ denotes the response random variable and $X$ denotes the predictor random variable. \n",
        "\n",
        "Then we assume that the expected value of $Y$ given some observation of $X=x$ is represented as: \n",
        "$\n",
        "E[Y|X=x] = \\beta_1 x + \\beta_0.\n",
        "$.\n",
        "\n",
        "However when we observe a data point $(x^i, y^i)$ as a realization of the pair $(X,Y)$, it is possible that the observed value $y^i$ of the response random variable $Y$ is not necessarily equal to the expected value $E[Y|X=x^i]=\\beta_1 x^i + \\beta_0$. \n",
        "\n",
        "In such case, we assume that the discrepancy between the observed value $y^i$ and the expected value $E[Y|X=x^i]$ is captured by an error $e^i$ given by:\n",
        "\n",
        "$\n",
        "\\begin{align}\n",
        "e^i &= y^i - E[Y|X=x^i] \\\\\n",
        "\\implies e^i&= y^i - (\\beta_1 x^i + \\beta_0). \n",
        "\\end{align}\n",
        "$ \n",
        "\n"
      ]
    },
    {
      "cell_type": "markdown",
      "metadata": {
        "id": "-llAzYjwwOER"
      },
      "source": [
        "Now we can assume that the data set $D$ comprises multiple realizations of the random variable pair $(X,Y)$. \n",
        "\n",
        "Thus when we the data set $D$ contains $n$ observations of the form $\\{(x^1,y^1), (x^2,y^2), \\ldots, (x^n,y^n)\\}$, then we can compute the errors as:\n",
        "$\\begin{align}\n",
        "e^i = y^i - (\\beta_1 x^i + \\beta_0), \\forall i \\in \\{1,2,\\ldots,n\\}.\n",
        "\\end{align}\n",
        "$"
      ]
    },
    {
      "cell_type": "code",
      "metadata": {
        "colab": {
          "base_uri": "https://localhost:8080/",
          "height": 531
        },
        "id": "jY8CFPbjSRpK",
        "outputId": "e45a9ea5-fecf-44c8-9195-2d80f4fb22d3"
      },
      "source": [
        "img_points_errors = Image.open(urlopen('https://raw.githubusercontent.com/balamurup/NOA_LinearRegression/main/line_with_points_errors.png'))\n",
        "img_points_errors"
      ],
      "execution_count": 9,
      "outputs": [
        {
          "output_type": "execute_result",
          "data": {
            "image/png": "[encoded data removed]",
            "text/plain": [
              "<PIL.PngImagePlugin.PngImageFile image mode=RGB size=834x514 at 0x7F2188C65990>"
            ]
          },
          "metadata": {
            "tags": []
          },
          "execution_count": 9
        }
      ]
    },
    {
      "cell_type": "markdown",
      "metadata": {
        "id": "ZclIdQfP2H1D"
      },
      "source": [
        "$\\large{\\text{How to estimate the parameters } \\beta_1, \\beta_0?}$ \n",
        "\n",
        "One way to estimate the values of $\\beta_0, \\beta_1$ is by minimizing the sum of squared errors given by: \n",
        "$\n",
        "\\begin{align}\n",
        "\\min \\sum_{i=1}^{n} (e^i)^2 \n",
        "\\end{align}\n",
        "$\n",
        "which can be equivalently written as the following optimization problem:\n",
        "$\n",
        "\\begin{align}\n",
        "\\min_{\\beta_0, \\beta_1} \\sum_{i=1}^{n} [y^i - (\\beta_1 x^i + \\beta_0) ]^2. \n",
        "\\end{align}\n",
        "$\n",
        "\n",
        "$\\textbf{Note}$ that the optimization problem is called the ordinary least squares (OLS) problem, and the term $\\sum_{i=1}^{n} [y^i - (\\beta_1 x^i + \\beta_0) ]^2$ is called the OLS objective function and we will denote the OLS objective by:\n",
        "\n",
        "$\n",
        "\\begin{align}\n",
        "L(\\beta_0, \\beta_1) = \\sum_{i=1}^{n} [y^i - (\\beta_1 x^i + \\beta_0) ]^2. \n",
        "\\end{align}\n",
        "$ "
      ]
    },
    {
      "cell_type": "markdown",
      "metadata": {
        "id": "bTscS5Nn22Vp"
      },
      "source": [
        "$\\Large{\\text{Solving the OLS optimization problem}}:$\n",
        "\n",
        "Recall from calculus that to solve \n",
        "\n",
        "$\n",
        "\\begin{align}\n",
        "\\min_{\\beta_0, \\beta_1} L(\\beta_0, \\beta_1) = \\sum_{i=1}^{n} [y^i - (\\beta_1 x^i + \\beta_0) ]^2. \n",
        "\\end{align}\n",
        "$, \n",
        "we find the partial derivatives with respect to $\\beta_0, \\beta_1$, and equate them to zero. Thus we would have:\n",
        "\n",
        "$\n",
        "\\begin{align}\n",
        "\\frac{\\partial }{\\partial \\beta_0} L(\\beta_0, \\beta_1) &= 0 \\\\\n",
        "\\implies \\frac{\\partial } {\\partial \\beta_0} \\sum_{i=1}^{n} [y^i - (\\beta_1 x^i + \\beta_0) ]^2 &= 0 \\\\\n",
        "\\implies  -2 \\sum_{i=1}^{n} [y^i - \\beta_1 x^i - \\beta_0) ] &= 0  \\\\\n",
        "\\implies \\beta_0 n + \\beta_1 \\sum_{i=1}^{n} x^i &= \\sum_{i=1}^{n} y^i. \n",
        "\\end{align}\n",
        "$, \n",
        "\n",
        "and \n",
        "\n",
        "$\n",
        "\\begin{align}\n",
        "\\frac{\\partial }{\\partial \\beta_1} L(\\beta_0, \\beta_1) &= 0 \\\\\n",
        "\\implies \\frac{\\partial } {\\partial \\beta_1} \\sum_{i=1}^{n} [y^i - (\\beta_1 x^i + \\beta_0) ]^2 &= 0 \\\\\n",
        "\\implies  -2 \\sum_{i=1}^{n} x^i[y^i - \\beta_1 x^i - \\beta_0) ] &= 0  \\\\\n",
        "\\implies \\beta_0 \\sum_{i=1}^{n} x^i + \\beta_1 \\sum_{i=1}^{n} (x^i)^2 &= \\sum_{i=1}^{n} x^i y^i. \n",
        "\\end{align}\n",
        "$.\n",
        "\n",
        "\n",
        "Thus we have a system of 2 linear equations in $\\beta_0, \\beta_1$ given by:\n",
        "\n",
        "$\n",
        "\\begin{align}\n",
        "\\beta_0 n + \\beta_1 \\sum_{i=1}^{n} x^i &= \\sum_{i=1}^{n} y^i. \\\\\n",
        "\\beta_0 \\sum_{i=1}^{n} x^i + \\beta_1 \\sum_{i=1}^{n} (x^i)^2 &= \\sum_{i=1}^{n} x^i y^i. \n",
        "\\end{align}\n",
        "$.\n",
        "\n",
        "This system of linear equations is called $\\textbf{normal equations}$."
      ]
    },
    {
      "cell_type": "markdown",
      "metadata": {
        "id": "TVH4knWy-QPZ"
      },
      "source": [
        "$\\Large{\\text{Exercise:}}$ \n",
        "\n",
        "Show that solving this system gives us the following estimates for $\\beta_0$ and $\\beta_1$: \n",
        "\n",
        "$\\beta_0 = \\bar{y} - \\beta^1 \\bar{x} \\\\\n",
        "\\beta_1 = \\frac{\\Sigma_{XY}}{\\Sigma_{XX}}\n",
        "$ \n",
        "\n",
        "where \n",
        "\n",
        "$\n",
        "\\begin{align}\n",
        "\\bar{x} &= \\frac{1}{n} \\sum_{i=1}^{n}x^i, \\\\\n",
        "\\bar{y} &= \\frac{1}{n} \\sum_{i=1}^{n}y^i, \\\\\n",
        "\\Sigma_{XX} &= \\sum_{i=1}^{n} (x^i - \\bar{x})^2 \\\\\n",
        "\\Sigma_{XY} &=  \\sum_{i=1}^{n} (x^i - \\bar{x})(y^i - \\bar{y}) \\\\\n",
        "\\end{align}\n",
        "$"
      ]
    },
    {
      "cell_type": "markdown",
      "metadata": {
        "id": "JZgcnaqX-q1W"
      },
      "source": [
        "$\\Large{\\text{Computing } \\beta_0, \\beta_1 \\text{ for the Math Score vs Tissue Drug Concentration data set}}:$"
      ]
    },
    {
      "cell_type": "code",
      "metadata": {
        "colab": {
          "base_uri": "https://localhost:8080/"
        },
        "id": "q9X7RNSU_g4e",
        "outputId": "ed1c26e4-66cc-4797-e284-d96a22954575"
      },
      "source": [
        "#Let us now compute beta_0 and beta_1 from the math score vs tissue concentration data set\n",
        "n = len(drug_vs_mathscore_data.index) #number of data points in the data set\n",
        "print('number of data points in the data set:',n)"
      ],
      "execution_count": 10,
      "outputs": [
        {
          "output_type": "stream",
          "text": [
            "number of data points in the data set: 7\n"
          ],
          "name": "stdout"
        }
      ]
    },
    {
      "cell_type": "code",
      "metadata": {
        "colab": {
          "base_uri": "https://localhost:8080/"
        },
        "id": "YCuKqQqBFklC",
        "outputId": "25b438d0-099e-4593-be27-7a683334360a"
      },
      "source": [
        "#First let us compute x_bar and y_bar \n",
        "x_bar = 0 \n",
        "y_bar = 0\n",
        "\n",
        "for i in range(n): #access each row from the data set \n",
        "  x_bar += float(drug_vs_mathscore_data.iat[i,0]) #access element at Tissue concentration column\n",
        "  y_bar += float(drug_vs_mathscore_data.iat[i,1]) #access element at math scores column\n",
        "x_bar /= n\n",
        "y_bar /= n\n",
        "print('x bar:',x_bar, 'y bar:',y_bar)"
      ],
      "execution_count": 11,
      "outputs": [
        {
          "output_type": "stream",
          "text": [
            "x bar: 4.332857142857143 y bar: 50.08714285714286\n"
          ],
          "name": "stdout"
        }
      ]
    },
    {
      "cell_type": "code",
      "metadata": {
        "colab": {
          "base_uri": "https://localhost:8080/"
        },
        "id": "yOOBCb5bFtKr",
        "outputId": "e37fc029-4e1a-4f29-917e-687381631775"
      },
      "source": [
        "#Then we will compute Sigma_XX and Sigma_XY \n",
        "sigma_xx = 0\n",
        "sigma_xy = 0\n",
        "\n",
        "for i in range(n): #access each row from the data set \n",
        "  sigma_xx += (float(drug_vs_mathscore_data.iat[i,0]) - x_bar)**2 #computing (x^i - x_bar)^2 \n",
        "  sigma_xy += (float(drug_vs_mathscore_data.iat[i,0]) - x_bar) * (float(drug_vs_mathscore_data.iat[i,1])-y_bar) #computing (x^i - x_bar)(y^i-y_bar)\n",
        "print('sigma_xx:',sigma_xx, 'sigma_xy:',sigma_xy)"
      ],
      "execution_count": 12,
      "outputs": [
        {
          "output_type": "stream",
          "text": [
            "sigma_xx: 22.474942857142857 sigma_xy: -202.48724285714292\n"
          ],
          "name": "stdout"
        }
      ]
    },
    {
      "cell_type": "code",
      "metadata": {
        "colab": {
          "base_uri": "https://localhost:8080/"
        },
        "id": "y5WC5Rs4FuOg",
        "outputId": "48410feb-fcca-4b10-dcd0-5a042919ef16"
      },
      "source": [
        "#Now we can compute beta_0 and beta_1\n",
        "beta_1 = sigma_xy/sigma_xx\n",
        "beta_0 = y_bar - beta_1* x_bar \n",
        "\n",
        "print('beta_0:', beta_0, 'beta_1', beta_1)\n"
      ],
      "execution_count": 13,
      "outputs": [
        {
          "output_type": "stream",
          "text": [
            "beta_0: 89.12387376799306 beta_1 -9.009466415296783\n"
          ],
          "name": "stdout"
        }
      ]
    },
    {
      "cell_type": "markdown",
      "metadata": {
        "id": "g1192ijjJbhW"
      },
      "source": [
        "$\\Large{\\text{Plotting the regression line}}$\n",
        " \n",
        "Having computed $\\beta_0$ and $\\beta_1$, we will now plot the line $y=\\beta_1 x + \\beta_0$ along with the points in the data set. "
      ]
    },
    {
      "cell_type": "code",
      "metadata": {
        "colab": {
          "base_uri": "https://localhost:8080/"
        },
        "id": "8jWKeE7OKR7Y",
        "outputId": "e79e6eb7-0286-4090-a273-b1a07edf65b2"
      },
      "source": [
        "#compute the left and right limits of the x-axis\n",
        "x_min = 9999\n",
        "x_max = -9999\n",
        "\n",
        "for i in range(n): #access each row from the data set \n",
        "  x_i = float(drug_vs_mathscore_data.iat[i,0]) #access element at Tissue concentration column\n",
        "  if x_i > x_max:\n",
        "    x_max = x_i \n",
        "  if x_i < x_min:\n",
        "    x_min = x_i\n",
        "\n",
        "x_min = x_min - 1\n",
        "x_max = x_max + 1 \n",
        "\n",
        "print('x_min:',x_min,'x_max:',x_max)\n",
        "\n",
        "\n"
      ],
      "execution_count": 14,
      "outputs": [
        {
          "output_type": "stream",
          "text": [
            "x_min: 0.16999999999999993 x_max: 7.41\n"
          ],
          "name": "stdout"
        }
      ]
    },
    {
      "cell_type": "code",
      "metadata": {
        "colab": {
          "base_uri": "https://localhost:8080/",
          "height": 295
        },
        "id": "Fku6RIQILQzd",
        "outputId": "391cbc66-4319-4281-c6d1-a07063e6fb6b"
      },
      "source": [
        "import numpy as np\n",
        "x = np.linspace(x_min,x_max,100) #creates a series of points in x axis\n",
        "y = beta_1*x+beta_0\n",
        "plt.plot(x, y, '-r', label='regression line')\n",
        "plt.scatter(drug_vs_mathscore_data['Tissue concentration'], drug_vs_mathscore_data['Math score'])\n",
        "\n",
        "plt.title(\"Tissue drug concentration vs Math scores Regression\")\n",
        "plt.xlabel(\"Tissue concentration\")\n",
        "plt.ylabel(\"Math scores\")\n",
        "plt.legend(loc='upper right')\n",
        "#plt.grid()\n",
        "plt.show()"
      ],
      "execution_count": 15,
      "outputs": [
        {
          "output_type": "display_data",
          "data": {
            "image/png": "[encoded data removed]",
            "text/plain": [
              "<Figure size 432x288 with 1 Axes>"
            ]
          },
          "metadata": {
            "tags": [],
            "needs_background": "light"
          }
        }
      ]
    },
    {
      "cell_type": "markdown",
      "metadata": {
        "id": "FoBI7g6Gc5H_"
      },
      "source": [
        "$\\Large{\\text{Residual Plot}}$\n",
        "\n",
        "Sometimes it would be useful to plot the error (or) $\\textbf{residual}$ $e^i$ versus the fitted values $\\hat{y}^i=\\beta_1 x^i + \\beta_0$.  "
      ]
    },
    {
      "cell_type": "code",
      "metadata": {
        "colab": {
          "base_uri": "https://localhost:8080/",
          "height": 295
        },
        "id": "ymSVWrHgql4y",
        "outputId": "6ae450c8-83af-4f1f-88a1-59a26d0dde50"
      },
      "source": [
        "e_i_residuals_list = [] \n",
        "for i in range(n): #access each row from the data set \n",
        "  x_i = float(drug_vs_mathscore_data.iat[i,0]) #access element at Tissue concentration column\n",
        "  y_i = float(drug_vs_mathscore_data.iat[i,1]) #access element at Math scores column\n",
        "\n",
        "  y_pred_i = beta_1 * x_i + beta_0 #compute the prediction obtained using the regression coefficients \n",
        "  e_i = y_i - y_pred_i #compute the difference between the actual observation y_i and prediction y_pred_i\n",
        "\n",
        "  e_i_residuals_list.append(e_i) #append the value of e_i to the list \n",
        "\n",
        "#plot the residuals e_i against the actual observations y_i\n",
        "plt.scatter(drug_vs_mathscore_data['Math score'], e_i_residuals_list,color='r')\n",
        "plt.title(\"Residual plot\")\n",
        "plt.xlabel(\"Math score responses\")\n",
        "plt.ylabel(\"Residuals\")\n",
        "plt.grid()\n",
        "plt.show()"
      ],
      "execution_count": 16,
      "outputs": [
        {
          "output_type": "display_data",
          "data": {
            "image/png": "[encoded data removed]",
            "text/plain": [
              "<Figure size 432x288 with 1 Axes>"
            ]
          },
          "metadata": {
            "tags": [],
            "needs_background": "light"
          }
        }
      ]
    },
    {
      "cell_type": "markdown",
      "metadata": {
        "id": "QE8zP-1bsOjO"
      },
      "source": [
        "Note that the residual plot helps to check the variance in the errors $e^i$. "
      ]
    },
    {
      "cell_type": "markdown",
      "metadata": {
        "id": "m5CFD3J2y2Fr"
      },
      "source": [
        "$\\Large{\\text{Correlation between the variables}}$\n",
        "\n",
        "It is useful to understand how the response variable is correlated with the predictor variable. \n",
        "\n",
        "One quantity useful to measure the correlation between the response variable and the predictor variable is the $\\textbf{sample correlation}$ given by:\n",
        "\n",
        "$\n",
        "\\begin{align}\n",
        "\\text{corr}(X,Y) = \\frac{\\Sigma_{XY}}{(n-1)s_X s_Y}\n",
        "\\end{align}\n",
        "$\n",
        "where \n",
        "\n",
        "$\n",
        "\\begin{align}\n",
        "\\text{recall } \\Sigma_{XY} &= \\sum_{i=1}^{n} (x^i - \\bar{x}) (y^i - \\bar{y}), \\\\\n",
        "s_X &= \\sqrt{\\frac{1}{n-1} \\Sigma_{XX} } = \\sqrt{\\frac{1}{n-1} \\sum_{i=1}^{n} (x^i-\\bar{x})^2 } \\\\\n",
        "s_Y &= \\sqrt{\\frac{1}{n-1} \\Sigma_{YY} } = \\sqrt{\\frac{1}{n-1} \\sum_{i=1}^{n} (y^i-\\bar{y})^2 } \n",
        "\\end{align}\n",
        "$\n",
        "\n",
        "$\\text{Note}$ that $s_X$ and $s_Y$ are sample standard deviations of $X$ and $Y$ respectively. \n",
        "\n",
        "$\\textbf{Exercise:}$ Verify that sample correlation can be equivalently written as\n",
        "\n",
        "$\n",
        "\\begin{align}\n",
        "\\text{corr}(X,Y) = \\frac{\\Sigma_{XY}}{\\sqrt{\\Sigma_{XX}\\Sigma_{YY}}}\n",
        "\\end{align}\n",
        "$\n",
        "where recall that: \n",
        "\n",
        "$\n",
        "\\begin{align}\n",
        "\\Sigma_{XX} &= \\sum_{i=1}^{n} (x^i - \\bar{x})^2 \\\\\n",
        "\\Sigma_{YY} &= \\sum_{i=1}^{n} (y^i - \\bar{y})^2\n",
        "\\end{align}\n",
        "$. \n",
        "\n",
        "It is also known that $-1 \\leq \\text{corr}(X,Y) \\leq 1$.\n"
      ]
    },
    {
      "cell_type": "markdown",
      "metadata": {
        "id": "k9ZtwNTq29kx"
      },
      "source": [
        "Let us now compute the sample correlation."
      ]
    },
    {
      "cell_type": "code",
      "metadata": {
        "colab": {
          "base_uri": "https://localhost:8080/"
        },
        "id": "mvN3xkfg3AZs",
        "outputId": "16ab270d-826a-42ec-f48c-a187a974733a"
      },
      "source": [
        "#Note that sigma_XY and sigma_XX have already been computed. \n",
        "#Hence we will now compute sigma_YY\n",
        "\n",
        "#Also note that y_bar is computed before\n",
        "\n",
        "sigma_yy = 0\n",
        "for i in range(n): #access each row from the data set \n",
        "  y_i = float(drug_vs_mathscore_data.iat[i,1]) #access element at Math scores column\n",
        "  sigma_yy += (y_i-y_bar)**2\n",
        "\n",
        "print('sigma_yy:', sigma_yy)\n",
        "\n",
        "#Then we will compute the sample correlation\n",
        "sample_correlation = sigma_xy/(np.sqrt(sigma_xx * sigma_yy))\n",
        "print('sample correlation:',sample_correlation)"
      ],
      "execution_count": 17,
      "outputs": [
        {
          "output_type": "stream",
          "text": [
            "sigma_yy: 2078.183342857143\n",
            "sample correlation: -0.9369284768740831\n"
          ],
          "name": "stdout"
        }
      ]
    },
    {
      "cell_type": "markdown",
      "metadata": {
        "id": "nWgRu46g1epH"
      },
      "source": [
        "$\\Large{\\text{Coefficient of multiple determination}}$ \n",
        "\n",
        "Consider the term \n",
        "\n",
        "$\n",
        "\\begin{align}\n",
        "\\Sigma_{YY} = \\sum_{i=1}^{n} (y^i - \\bar{y})^2. \n",
        "\\end{align}\n",
        "$\n",
        "This term $\\Sigma_{YY}$ measures the $\\textbf{observed total variation of the response}$, without considering the effect of predictor variables. \n",
        "\n",
        "When we have access to a predictor variable, then the $\\textbf{unexplained variation of response variable given the predictor variable}$ is given by the sum of squared residuals:\n",
        "\n",
        "$\n",
        "\\begin{align}\n",
        "L = \\sum_{i=1}^{n} (e^i)^2. \n",
        "\\end{align}\n",
        "$\n",
        "\n",
        "Define the term:\n",
        "\n",
        "$\n",
        "\\begin{align}\n",
        "\\text{SSD} = \\Sigma_{YY}- L\n",
        "\\end{align}\n",
        "$\n",
        "\n",
        "as the difference between observed total variation of the response and the unexplained variation given the predictor. Hence this can be considered as $\\textbf{variability explained by the regression on the predictor variable}$. \n",
        "\n",
        "Assuming $\\Sigma_{YY}\\neq 0$, consider: \n",
        "\n",
        "$\n",
        "\\begin{align}\n",
        "\\frac{\\text{SSD}}{\\Sigma_{YY}} = 1- \\frac{L}{\\Sigma_{YY}}.\n",
        "\\end{align}\n",
        "$\n",
        "Here the term $\\frac{\\text{SSD}}{\\Sigma_{YY}}$ denotes the proportion of observed variability in the response variable which is explained by the regression on the predictor variable. From the equality, this proportion of observed variability given the predictor is simply $1$ minus the proportion of unexplained variability. \n",
        "\n",
        "This term $\\frac{\\text{SSD}}{\\Sigma_{YY}}$ denoting the proportion of observed variability which is explained by the predictor variable has a special name called $\\textbf{coefficient of multiple determination}$ and is denoted by $R^2$. \n",
        "\n",
        "It is known that $0\\leq R^2 \\leq 1$. "
      ]
    },
    {
      "cell_type": "markdown",
      "metadata": {
        "id": "u9YHIsongthK"
      },
      "source": [
        "Let us compute $R^2$. "
      ]
    },
    {
      "cell_type": "code",
      "metadata": {
        "colab": {
          "base_uri": "https://localhost:8080/"
        },
        "id": "NpaMDr5syhMe",
        "outputId": "965bbe68-064b-467a-fef7-e83fa6606243"
      },
      "source": [
        "#Note that sum of squared residuals needs to be computed \n",
        "\n",
        "sum_sq_residuals = 0\n",
        "for i in range(n): #access each row from the data set \n",
        "  x_i = float(drug_vs_mathscore_data.iat[i,0]) #access element at Tissue concentration column\n",
        "  y_i = float(drug_vs_mathscore_data.iat[i,1]) #access element at Math scores column\n",
        "  y_pred_i = beta_1*x_i + beta_0\n",
        "  sum_sq_residuals += (y_i-y_pred_i)**2\n",
        "\n",
        "print('sum of squared residuals:', sum_sq_residuals)\n",
        "\n",
        "#Then we will compute the R^2 quantity\n",
        "R_sq = sum_sq_residuals/sigma_yy\n",
        "print('R^2:',R_sq)"
      ],
      "execution_count": 18,
      "outputs": [
        {
          "output_type": "stream",
          "text": [
            "sum of squared residuals: 253.88132880967103\n",
            "R^2: 0.12216502922241118\n"
          ],
          "name": "stdout"
        }
      ]
    },
    {
      "cell_type": "markdown",
      "metadata": {
        "id": "wb6j953Vun8Z"
      },
      "source": [
        "$\\Large{\\text{References:}}$\n",
        "\n",
        "\n",
        "\n",
        "1.   Olive J. David, $\\textit{Linear Regression}$. Springer International Publishing,  2017.\n",
        "2.   Sanford Weisberg. $\\textit{Applied Linear Regression}$. John Wiley $\\&$ Sons, Inc., Hoboken, New Jersey, 4-th Edition, 2014.\n",
        "\n"
      ]
    },
    {
      "cell_type": "code",
      "metadata": {
        "id": "T47ZSd4DiFa_"
      },
      "source": [
        ""
      ],
      "execution_count": 18,
      "outputs": []
    }
  ]
}